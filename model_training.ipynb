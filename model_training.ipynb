{
 "cells": [
  {
   "cell_type": "code",
   "execution_count": 1,
   "metadata": {},
   "outputs": [
    {
     "name": "stderr",
     "output_type": "stream",
     "text": [
      "/Users/fchua/Applications/miniconda/lib/python3.5/site-packages/h5py/__init__.py:36: FutureWarning: Conversion of the second argument of issubdtype from `float` to `np.floating` is deprecated. In future, it will be treated as `np.float64 == np.dtype(float).type`.\n",
      "  from ._conv import register_converters as _register_converters\n",
      "Using TensorFlow backend.\n",
      "/Users/fchua/Applications/miniconda/lib/python3.5/importlib/_bootstrap.py:222: RuntimeWarning: compiletime version 3.6 of module 'tensorflow.python.framework.fast_tensor_util' does not match runtime version 3.5\n",
      "  return f(*args, **kwds)\n"
     ]
    }
   ],
   "source": [
    "import cv2\n",
    "import numpy as np\n",
    "import pandas as pd\n",
    "import matplotlib.pyplot as plt\n",
    "\n",
    "from keras.models import Sequential\n",
    "from keras.layers import Flatten, Dense, Conv2D, MaxPooling2D, \\\n",
    "BatchNormalization, Cropping2D, Lambda, Activation, Dropout"
   ]
  },
  {
   "cell_type": "code",
   "execution_count": 2,
   "metadata": {},
   "outputs": [],
   "source": [
    "driving_log = pd.read_csv('data/driving_log.csv', names=['center','left','right','angle','throttle','brake','speed'])"
   ]
  },
  {
   "cell_type": "code",
   "execution_count": 3,
   "metadata": {},
   "outputs": [],
   "source": [
    "center_angle = driving_log[['center','angle']]"
   ]
  },
  {
   "cell_type": "code",
   "execution_count": 9,
   "metadata": {},
   "outputs": [
    {
     "data": {
      "image/png": "[encoded data removed]",
      "text/plain": [
       "<Figure size 432x288 with 1 Axes>"
      ]
     },
     "metadata": {},
     "output_type": "display_data"
    }
   ],
   "source": [
    "# plot histogram of angle\n",
    "plt.hist(center_angle.angle, bins=100)\n",
    "plt.show()"
   ]
  },
  {
   "cell_type": "code",
   "execution_count": 10,
   "metadata": {},
   "outputs": [],
   "source": [
    "def processFilename(filename):\n",
    "  filename = filename.split('/')\n",
    "  filename = 'data/{}/{}'.format(filename[-2], filename[-1])\n",
    "  return filename\n",
    "# enddef"
   ]
  },
  {
   "cell_type": "code",
   "execution_count": 11,
   "metadata": {},
   "outputs": [],
   "source": [
    "def read_images(driving_log, crop=False):\n",
    "  images = []\n",
    "  angles = []\n",
    "  for row in driving_log.itertuples():\n",
    "    angle = row.angle\n",
    "    angles.append(angle)\n",
    "    image = plt.imread( processFilename(driving_log.iloc[2000].center) )\n",
    "    if crop:\n",
    "      images.append(image[65:-25,:,:])\n",
    "    else:\n",
    "      images.append(image)\n",
    "    # end if\n",
    "  # end for\n",
    "  return np.array(images), np.array(angles)\n",
    "# end def"
   ]
  },
  {
   "cell_type": "code",
   "execution_count": 12,
   "metadata": {},
   "outputs": [],
   "source": [
    "images, angles = read_images(center_angle)"
   ]
  },
  {
   "cell_type": "code",
   "execution_count": 16,
   "metadata": {},
   "outputs": [
    {
     "data": {
      "image/png": "[encoded data removed]",
      "text/plain": [
       "<Figure size 432x288 with 1 Axes>"
      ]
     },
     "metadata": {},
     "output_type": "display_data"
    }
   ],
   "source": [
    "plt.hist(angles, bins=100)\n",
    "plt.xlabel('angle')\n",
    "plt.ylabel('frequency')\n",
    "plt.title('histogram before augmentation')\n",
    "plt.show()"
   ]
  },
  {
   "cell_type": "code",
   "execution_count": 19,
   "metadata": {},
   "outputs": [],
   "source": [
    "# augment the data set\n",
    "augmented_images = []\n",
    "augmented_angles = []\n",
    "for image, angle in zip(images, angles):\n",
    "  augmented_images.append(image)\n",
    "  augmented_angles.append(angle)\n",
    "  \n",
    "  augmented_images.append(cv2.flip(image, 1))\n",
    "  augmented_angles.append(-angle)\n",
    "# end for\n",
    "\n",
    "augmented_images = np.array(augmented_images)\n",
    "augmented_angles = np.array(augmented_angles)"
   ]
  },
  {
   "cell_type": "code",
   "execution_count": 20,
   "metadata": {},
   "outputs": [
    {
     "data": {
      "image/png": "[encoded data removed]",
      "text/plain": [
       "<Figure size 432x288 with 1 Axes>"
      ]
     },
     "metadata": {},
     "output_type": "display_data"
    }
   ],
   "source": [
    "plt.hist(augmented_angles, bins=100)\n",
    "plt.xlabel('angle')\n",
    "plt.ylabel('frequency')\n",
    "plt.title('histogram after augmentation')\n",
    "plt.show()\n",
    "\n",
    "# as you can see, it is now normally distributed"
   ]
  },
  {
   "cell_type": "code",
   "execution_count": 38,
   "metadata": {},
   "outputs": [],
   "source": [
    "mu   = np.mean(augmented_images)\n",
    "sigma = np.std(augmented_images)"
   ]
  },
  {
   "cell_type": "code",
   "execution_count": 41,
   "metadata": {},
   "outputs": [
    {
     "name": "stdout",
     "output_type": "stream",
     "text": [
      "mu=134.86627604166668, sigma=41.75840322975388\n"
     ]
    }
   ],
   "source": [
    "print('mu={}, sigma={}'.format(mu, sigma))"
   ]
  },
  {
   "cell_type": "code",
   "execution_count": 39,
   "metadata": {},
   "outputs": [
    {
     "data": {
      "text/plain": [
       "(160, 320, 3)"
      ]
     },
     "execution_count": 39,
     "metadata": {},
     "output_type": "execute_result"
    }
   ],
   "source": [
    "augmented_images[0].shape"
   ]
  },
  {
   "cell_type": "code",
   "execution_count": 42,
   "metadata": {},
   "outputs": [
    {
     "ename": "TypeError",
     "evalue": "LeNet() missing 2 required positional arguments: 'mu' and 'sigma'",
     "output_type": "error",
     "traceback": [
      "\u001b[0;31m---------------------------------------------------------------------------\u001b[0m",
      "\u001b[0;31mTypeError\u001b[0m                                 Traceback (most recent call last)",
      "\u001b[0;32m<ipython-input-42-93e7db082ffa>\u001b[0m in \u001b[0;36m<module>\u001b[0;34m()\u001b[0m\n\u001b[1;32m     28\u001b[0m   \u001b[0;32mreturn\u001b[0m \u001b[0mmodel\u001b[0m\u001b[0;34m\u001b[0m\u001b[0m\n\u001b[1;32m     29\u001b[0m \u001b[0;34m\u001b[0m\u001b[0m\n\u001b[0;32m---> 30\u001b[0;31m \u001b[0mmodel\u001b[0m \u001b[0;34m=\u001b[0m \u001b[0mLeNet\u001b[0m\u001b[0;34m(\u001b[0m\u001b[0maugmented_images\u001b[0m\u001b[0;34m[\u001b[0m\u001b[0;36m0\u001b[0m\u001b[0;34m]\u001b[0m\u001b[0;34m.\u001b[0m\u001b[0mshape\u001b[0m\u001b[0;34m)\u001b[0m\u001b[0;34m\u001b[0m\u001b[0m\n\u001b[0m\u001b[1;32m     31\u001b[0m \u001b[0mmodel\u001b[0m\u001b[0;34m.\u001b[0m\u001b[0mcompile\u001b[0m\u001b[0;34m(\u001b[0m\u001b[0mloss\u001b[0m\u001b[0;34m=\u001b[0m\u001b[0;34m'mse'\u001b[0m\u001b[0;34m,\u001b[0m \u001b[0moptimizer\u001b[0m\u001b[0;34m=\u001b[0m\u001b[0;34m'adam'\u001b[0m\u001b[0;34m)\u001b[0m\u001b[0;34m\u001b[0m\u001b[0m\n",
      "\u001b[0;31mTypeError\u001b[0m: LeNet() missing 2 required positional arguments: 'mu' and 'sigma'"
     ]
    }
   ],
   "source": [
    "def LeNet(input_shape, mu, sigma, dropout=1.0):\n",
    "  model = Sequential()\n",
    "  model.add(Lambda(lambda x: (x - mu)/sigma, input_shape=input_shape)) # preprocess, normalization\n",
    "  model.add(Cropping2D(cropping=((75,25), (0,0))))\n",
    "  \n",
    "  # layer 1\n",
    "  model.add(Conv2D(6, 5, strides=1, activation='relu'))\n",
    "  model.add(BatchNormalization())\n",
    "  model.add(MaxPooling2D(pool_size=2))\n",
    "  model.add(Dropout(dropout, seed=1))\n",
    "  \n",
    "  # layer 2\n",
    "  model.add(Conv2D(16, 5, strides=1, activation='relu'))\n",
    "  model.add(BatchNormalization())\n",
    "  model.add(MaxPooling2D(pool_size=2))\n",
    "  model.add(Dropout(dropout, seed=1))\n",
    "  \n",
    "  model.add(Flatten())\n",
    "  \n",
    "  model.add(Dense(120, activation='relu'))\n",
    "  model.add(Dropout(dropout, seed=1))\n",
    "  \n",
    "  model.add(Dense(84, activation='relu'))\n",
    "  model.add(Dropout(dropout, seed=1))\n",
    "  \n",
    "  model.add(Dense(1))\n",
    "  \n",
    "  return model\n",
    "\n",
    "model = LeNet(augmented_images[0].shape, mu, sigma)\n",
    "model.compile(loss='mse', optimizer='adam')"
   ]
  },
  {
   "cell_type": "code",
   "execution_count": 43,
   "metadata": {},
   "outputs": [],
   "source": [
    "np.random.seed(1)"
   ]
  },
  {
   "cell_type": "code",
   "execution_count": 12,
   "metadata": {},
   "outputs": [
    {
     "name": "stdout",
     "output_type": "stream",
     "text": [
      "Train on 2463 samples, validate on 616 samples\n",
      "Epoch 1/20\n",
      "2463/2463 [==============================] - 4s 1ms/step - loss: 0.0510 - val_loss: 0.0236\n",
      "Epoch 2/20\n",
      "2463/2463 [==============================] - 2s 764us/step - loss: 0.0113 - val_loss: 0.0238\n",
      "Epoch 3/20\n",
      "2463/2463 [==============================] - 2s 761us/step - loss: 0.0115 - val_loss: 0.0221\n",
      "Epoch 4/20\n",
      "2463/2463 [==============================] - 2s 760us/step - loss: 0.0114 - val_loss: 0.0239\n",
      "Epoch 5/20\n",
      "2463/2463 [==============================] - 2s 761us/step - loss: 0.0113 - val_loss: 0.0238\n",
      "Epoch 6/20\n",
      "2463/2463 [==============================] - 2s 761us/step - loss: 0.0113 - val_loss: 0.0234\n",
      "Epoch 7/20\n",
      "2463/2463 [==============================] - 2s 762us/step - loss: 0.0113 - val_loss: 0.0250\n",
      "Epoch 8/20\n",
      "2463/2463 [==============================] - 2s 764us/step - loss: 0.0113 - val_loss: 0.0237\n",
      "Epoch 9/20\n",
      "2463/2463 [==============================] - 2s 762us/step - loss: 0.0113 - val_loss: 0.0239\n",
      "Epoch 10/20\n",
      "2463/2463 [==============================] - 2s 764us/step - loss: 0.0112 - val_loss: 0.0238\n",
      "Epoch 11/20\n",
      "2463/2463 [==============================] - 2s 762us/step - loss: 0.0113 - val_loss: 0.0238\n",
      "Epoch 12/20\n",
      "2463/2463 [==============================] - 2s 761us/step - loss: 0.0112 - val_loss: 0.0236\n",
      "Epoch 13/20\n",
      "2463/2463 [==============================] - 2s 764us/step - loss: 0.0113 - val_loss: 0.0244\n",
      "Epoch 14/20\n",
      "2463/2463 [==============================] - 2s 763us/step - loss: 0.0113 - val_loss: 0.0229\n",
      "Epoch 15/20\n",
      "2463/2463 [==============================] - 2s 762us/step - loss: 0.0113 - val_loss: 0.0247\n",
      "Epoch 16/20\n",
      "2463/2463 [==============================] - 2s 763us/step - loss: 0.0114 - val_loss: 0.0229\n",
      "Epoch 17/20\n",
      "2463/2463 [==============================] - 2s 760us/step - loss: 0.0113 - val_loss: 0.0234\n",
      "Epoch 18/20\n",
      "2463/2463 [==============================] - 2s 760us/step - loss: 0.0112 - val_loss: 0.0250\n",
      "Epoch 19/20\n",
      "2463/2463 [==============================] - 2s 764us/step - loss: 0.0113 - val_loss: 0.0246\n",
      "Epoch 20/20\n",
      "2463/2463 [==============================] - 2s 763us/step - loss: 0.0112 - val_loss: 0.0229\n"
     ]
    },
    {
     "data": {
      "text/plain": [
       "<keras.callbacks.History at 0x7f5310ca8a58>"
      ]
     },
     "execution_count": 12,
     "metadata": {},
     "output_type": "execute_result"
    }
   ],
   "source": [
    "model.fit(x=images, y=angles, batch_size=100, epochs=20, verbose=1, validation_split=0.2, shuffle=True)"
   ]
  },
  {
   "cell_type": "code",
   "execution_count": 13,
   "metadata": {},
   "outputs": [],
   "source": [
    "model.save('model.h5')\n",
    "model.save_weights('model_weights.h5')"
   ]
  },
  {
   "cell_type": "code",
   "execution_count": 14,
   "metadata": {},
   "outputs": [],
   "source": [
    "json_string = model.to_json()\n",
    "with open('model_architecture.json', 'w') as fid:\n",
    "  fid.write(json_string)"
   ]
  },
  {
   "cell_type": "code",
   "execution_count": null,
   "metadata": {},
   "outputs": [],
   "source": []
  }
 ],
 "metadata": {
  "kernelspec": {
   "display_name": "Python [default]",
   "language": "python",
   "name": "python3"
  },
  "language_info": {
   "codemirror_mode": {
    "name": "ipython",
    "version": 3
   },
   "file_extension": ".py",
   "mimetype": "text/x-python",
   "name": "python",
   "nbconvert_exporter": "python",
   "pygments_lexer": "ipython3",
   "version": "3.5.5"
  }
 },
 "nbformat": 4,
 "nbformat_minor": 2
}
