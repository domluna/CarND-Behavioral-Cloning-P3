{
 "cells": [
  {
   "cell_type": "code",
   "execution_count": 1,
   "metadata": {},
   "outputs": [
    {
     "name": "stderr",
     "output_type": "stream",
     "text": [
      "/home/freddy/apps/miniconda3/lib/python3.6/site-packages/h5py/__init__.py:34: FutureWarning: Conversion of the second argument of issubdtype from `float` to `np.floating` is deprecated. In future, it will be treated as `np.float64 == np.dtype(float).type`.\n",
      "  from ._conv import register_converters as _register_converters\n",
      "Using TensorFlow backend.\n"
     ]
    }
   ],
   "source": [
    "import cv2\n",
    "import numpy as np\n",
    "import pandas as pd\n",
    "import matplotlib.pyplot as plt\n",
    "\n",
    "from keras.models import Sequential\n",
    "from keras.layers import Flatten, Dense, Conv2D, MaxPooling2D, \\\n",
    "BatchNormalization, Cropping2D, Lambda, Activation, Dropout"
   ]
  },
  {
   "cell_type": "code",
   "execution_count": 2,
   "metadata": {},
   "outputs": [],
   "source": [
    "driving_log = pd.read_csv('data/driving_log.csv', names=['center','left','right','angle','throttle','brake','speed'])"
   ]
  },
  {
   "cell_type": "code",
   "execution_count": 3,
   "metadata": {},
   "outputs": [],
   "source": [
    "center_angle = driving_log[['center','angle']]"
   ]
  },
  {
   "cell_type": "code",
   "execution_count": 4,
   "metadata": {},
   "outputs": [],
   "source": [
    "def processFilename(filename):\n",
    "  filename = filename.split('/')\n",
    "  filename = 'data/{}/{}'.format(filename[-2], filename[-1])\n",
    "  return filename\n",
    "# enddef"
   ]
  },
  {
   "cell_type": "code",
   "execution_count": 5,
   "metadata": {},
   "outputs": [],
   "source": [
    "def read_images(driving_log, crop=False):\n",
    "  images = []\n",
    "  angles = []\n",
    "  for row in driving_log.itertuples():\n",
    "    angle = row.angle\n",
    "    angles.append(angle)\n",
    "    image = plt.imread( processFilename(driving_log.iloc[2000].center) )\n",
    "    if crop:\n",
    "      images.append(image[65:-25,:,:])\n",
    "    else:\n",
    "      images.append(image)\n",
    "    # end if\n",
    "  # end for\n",
    "  return np.array(images), np.array(angles)\n",
    "# end def"
   ]
  },
  {
   "cell_type": "code",
   "execution_count": 6,
   "metadata": {},
   "outputs": [],
   "source": [
    "images, angles = read_images(center_angle)"
   ]
  },
  {
   "cell_type": "code",
   "execution_count": 7,
   "metadata": {},
   "outputs": [
    {
     "data": {
      "text/plain": [
       "(160, 320, 3)"
      ]
     },
     "execution_count": 7,
     "metadata": {},
     "output_type": "execute_result"
    }
   ],
   "source": [
    "images[0].shape"
   ]
  },
  {
   "cell_type": "code",
   "execution_count": 8,
   "metadata": {},
   "outputs": [],
   "source": [
    "# setup the random number seed\n",
    "np.random.seed(1)"
   ]
  },
  {
   "cell_type": "code",
   "execution_count": 9,
   "metadata": {},
   "outputs": [],
   "source": [
    "def batches(X, Y, batch_size=1):\n",
    "  # X is a (n,width,height,channel) tensor\n",
    "  # y is a (n,) tensor\n",
    "  \n",
    "  output_batches = []\n",
    "  sample_size = len(X)\n",
    "  for start_i in range(0, sample_size, batch_size):\n",
    "    end_i = start_i + batch_size\n",
    "    batch = [X[start_i:end_i, :, :, :], Y[start_i:end_i]]\n",
    "    output_batches.append(batch)\n",
    "  return output_batches\n",
    "# end def"
   ]
  },
  {
   "cell_type": "code",
   "execution_count": 11,
   "metadata": {},
   "outputs": [],
   "source": [
    "def LeNet(input_shape, dropout=1.0):\n",
    "  model = Sequential()\n",
    "  model.add(Lambda(lambda x: x/255.0 - 0.5, input_shape=input_shape)) # preprocess, normalization\n",
    "  model.add(Cropping2D(cropping=((65,25), (0,0))))\n",
    "  \n",
    "  # layer 1\n",
    "  model.add(Conv2D(6, 5, strides=1, activation='relu'))\n",
    "  model.add(MaxPooling2D(pool_size=2))\n",
    "  model.add(Dropout(dropout, seed=1))\n",
    "  \n",
    "  # layer 2\n",
    "  model.add(Conv2D(16, 5, strides=1, activation='relu'))\n",
    "  model.add(MaxPooling2D(pool_size=2))\n",
    "  model.add(Dropout(dropout, seed=1))\n",
    "  \n",
    "  model.add(Flatten())\n",
    "  \n",
    "  model.add(Dense(120, activation='relu'))\n",
    "  model.add(Dropout(dropout, seed=1))\n",
    "  \n",
    "  model.add(Dense(84, activation='relu'))\n",
    "  model.add(Dropout(dropout, seed=1))\n",
    "  \n",
    "  model.add(Dense(1))\n",
    "  \n",
    "  return model\n",
    "\n",
    "model = LeNet(images[0].shape)\n",
    "model.compile(loss='mse', optimizer='adam')"
   ]
  },
  {
   "cell_type": "code",
   "execution_count": 12,
   "metadata": {},
   "outputs": [
    {
     "name": "stdout",
     "output_type": "stream",
     "text": [
      "Train on 2463 samples, validate on 616 samples\n",
      "Epoch 1/20\n",
      "2463/2463 [==============================] - 4s 1ms/step - loss: 0.0510 - val_loss: 0.0236\n",
      "Epoch 2/20\n",
      "2463/2463 [==============================] - 2s 764us/step - loss: 0.0113 - val_loss: 0.0238\n",
      "Epoch 3/20\n",
      "2463/2463 [==============================] - 2s 761us/step - loss: 0.0115 - val_loss: 0.0221\n",
      "Epoch 4/20\n",
      "2463/2463 [==============================] - 2s 760us/step - loss: 0.0114 - val_loss: 0.0239\n",
      "Epoch 5/20\n",
      "2463/2463 [==============================] - 2s 761us/step - loss: 0.0113 - val_loss: 0.0238\n",
      "Epoch 6/20\n",
      "2463/2463 [==============================] - 2s 761us/step - loss: 0.0113 - val_loss: 0.0234\n",
      "Epoch 7/20\n",
      "2463/2463 [==============================] - 2s 762us/step - loss: 0.0113 - val_loss: 0.0250\n",
      "Epoch 8/20\n",
      "2463/2463 [==============================] - 2s 764us/step - loss: 0.0113 - val_loss: 0.0237\n",
      "Epoch 9/20\n",
      "2463/2463 [==============================] - 2s 762us/step - loss: 0.0113 - val_loss: 0.0239\n",
      "Epoch 10/20\n",
      "2463/2463 [==============================] - 2s 764us/step - loss: 0.0112 - val_loss: 0.0238\n",
      "Epoch 11/20\n",
      "2463/2463 [==============================] - 2s 762us/step - loss: 0.0113 - val_loss: 0.0238\n",
      "Epoch 12/20\n",
      "2463/2463 [==============================] - 2s 761us/step - loss: 0.0112 - val_loss: 0.0236\n",
      "Epoch 13/20\n",
      "2463/2463 [==============================] - 2s 764us/step - loss: 0.0113 - val_loss: 0.0244\n",
      "Epoch 14/20\n",
      "2463/2463 [==============================] - 2s 763us/step - loss: 0.0113 - val_loss: 0.0229\n",
      "Epoch 15/20\n",
      "2463/2463 [==============================] - 2s 762us/step - loss: 0.0113 - val_loss: 0.0247\n",
      "Epoch 16/20\n",
      "2463/2463 [==============================] - 2s 763us/step - loss: 0.0114 - val_loss: 0.0229\n",
      "Epoch 17/20\n",
      "2463/2463 [==============================] - 2s 760us/step - loss: 0.0113 - val_loss: 0.0234\n",
      "Epoch 18/20\n",
      "2463/2463 [==============================] - 2s 760us/step - loss: 0.0112 - val_loss: 0.0250\n",
      "Epoch 19/20\n",
      "2463/2463 [==============================] - 2s 764us/step - loss: 0.0113 - val_loss: 0.0246\n",
      "Epoch 20/20\n",
      "2463/2463 [==============================] - 2s 763us/step - loss: 0.0112 - val_loss: 0.0229\n"
     ]
    },
    {
     "data": {
      "text/plain": [
       "<keras.callbacks.History at 0x7f5310ca8a58>"
      ]
     },
     "execution_count": 12,
     "metadata": {},
     "output_type": "execute_result"
    }
   ],
   "source": [
    "model.fit(x=images, y=angles, batch_size=100, epochs=20, verbose=1, validation_split=0.2, shuffle=True)"
   ]
  },
  {
   "cell_type": "code",
   "execution_count": 13,
   "metadata": {},
   "outputs": [],
   "source": [
    "model.save('model.h5')\n",
    "model.save_weights('model_weights.h5')"
   ]
  },
  {
   "cell_type": "code",
   "execution_count": 14,
   "metadata": {},
   "outputs": [],
   "source": [
    "json_string = model.to_json()\n",
    "with open('model_architecture.json', 'w') as fid:\n",
    "  fid.write(json_string)\n"
   ]
  },
  {
   "cell_type": "code",
   "execution_count": null,
   "metadata": {},
   "outputs": [],
   "source": []
  }
 ],
 "metadata": {
  "kernelspec": {
   "display_name": "Python 3",
   "language": "python",
   "name": "python3"
  },
  "language_info": {
   "codemirror_mode": {
    "name": "ipython",
    "version": 3
   },
   "file_extension": ".py",
   "mimetype": "text/x-python",
   "name": "python",
   "nbconvert_exporter": "python",
   "pygments_lexer": "ipython3",
   "version": "3.6.4"
  }
 },
 "nbformat": 4,
 "nbformat_minor": 2
}
