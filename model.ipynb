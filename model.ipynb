{
 "cells": [
  {
   "cell_type": "code",
   "execution_count": 9,
   "metadata": {},
   "outputs": [],
   "source": [
    "def loadSamples(samples):\n",
    "    '''\n",
    "    Load the sample data\n",
    "    '''\n",
    "    import csv\n",
    "    with open('../data/driving_log.csv') as csvfile:\n",
    "        reader = csv.reader(csvfile)\n",
    "        for line in reader:\n",
    "            samples.append(line)\n",
    "    return samples"
   ]
  },
  {
   "cell_type": "code",
   "execution_count": 10,
   "metadata": {},
   "outputs": [
    {
     "output_type": "stream",
     "name": "stdout",
     "text": "8037\n"
    }
   ],
   "source": [
    "samples = []\n",
    "samples = loadSamples(samples)\n",
    "print(len(samples))"
   ]
  },
  {
   "cell_type": "code",
   "execution_count": 13,
   "metadata": {},
   "outputs": [],
   "source": [
    "import cv2\n",
    "def generator(samples, batch_size=32):\n",
    "    '''\n",
    "    Generate shuffled batch samples on the fly\n",
    "    '''\n",
    "    num_samples = len(samples)\n",
    "    while 1: # Loop forever so the generator never terminates\n",
    "        shuffle(samples)\n",
    "        for offset in range(0, num_samples, batch_size):\n",
    "            batch_samples = samples[offset:offset+batch_size]\n",
    "\n",
    "            images = []\n",
    "            steerings = []\n",
    "            for batch_sample in batch_samples:\n",
    "                name = './IMG/'+batch_sample[0].split('/')[-1]\n",
    "                center_image = cv2.imread(name)\n",
    "                center_steering = float(batch_sample[3])\n",
    "                images.append(center_image)\n",
    "                steerings.append(center_steering)\n",
    "\n",
    "            # trim image to only see section with road\n",
    "            X = np.array(images)\n",
    "            y = np.array(steerings)\n",
    "            yield sklearn.utils.shuffle(X, y)"
   ]
  },
  {
   "cell_type": "code",
   "execution_count": 20,
   "metadata": {},
   "outputs": [
    {
     "output_type": "stream",
     "name": "stdout",
     "text": "Train samples: 6429\nValidation samples: 1608\n"
    }
   ],
   "source": [
    "from sklearn.model_selection import train_test_split\n",
    "train_samples, validation_samples = train_test_split(samples, test_size=0.2)\n",
    "print('Train samples: {}'.format(len(train_samples)))\n",
    "print('Validation samples: {}'.format(len(validation_samples)))"
   ]
  },
  {
   "cell_type": "code",
   "execution_count": 21,
   "metadata": {},
   "outputs": [],
   "source": [
    "# Set our batch size\n",
    "batch_size=32\n",
    "\n",
    "# compile and train the model using the generator function\n",
    "train_generator = generator(train_samples, batch_size=batch_size)\n",
    "validation_generator = generator(validation_samples, batch_size=batch_size)"
   ]
  },
  {
   "cell_type": "code",
   "execution_count": 41,
   "metadata": {},
   "outputs": [],
   "source": [
    "def nvidiaCNN(input_shape):\n",
    "    '''\n",
    "    Define the Nvidia End-to-End CNN architecture\n",
    "    '''\n",
    "    from keras.models import Sequential, Model\n",
    "    from keras.layers import Lambda, Cropping2D, Convolution2D, Flatten, Dense\n",
    "    model = Sequential()\n",
    "    model.add(Lambda(lambda x: (x / 255.0) - 0.5, input_shape=input_shape)) # First normalize the input image with Lambda layer\n",
    "    model.add(Cropping2D(cropping=((70,25), (0,0)))) # Crop the usefule area\n",
    "    model.add(Convolution2D(24,5,5, subsample=(2,2), activation='relu')) # 1st Convolution layer\n",
    "    model.add(Convolution2D(36,5,5, subsample=(2,2), activation='relu')) # 2nd Convolution layer\n",
    "    model.add(Convolution2D(48,5,5, subsample=(2,2), activation='relu')) # 3rd Convolution layer\n",
    "    model.add(Convolution2D(64,3,3, activation='relu')) # 4th Convolution layer\n",
    "    model.add(Convolution2D(64,3,3, activation='relu')) # 5th Convolution layer\n",
    "    model.add(Flatten()) # Flatten layer\n",
    "    model.add(Dense(100)) # 1st Fully connected layer\n",
    "    model.add(Dense(50)) # 2nd Fully connected layer\n",
    "    model.add(Dense(10)) # 3rd Fully connected layer\n",
    "    model.add(Dense(1)) # Output layer\n",
    "    return model\n"
   ]
  },
  {
   "cell_type": "code",
   "execution_count": 42,
   "metadata": {},
   "outputs": [],
   "source": [
    "raw_image_shape = (160,320,3)\n",
    "model = nvidiaCNN(raw_image_shape)"
   ]
  },
  {
   "cell_type": "code",
   "execution_count": null,
   "metadata": {},
   "outputs": [],
   "source": []
  }
 ],
 "metadata": {
  "language_info": {
   "codemirror_mode": {
    "name": "ipython",
    "version": 3
   },
   "file_extension": ".py",
   "mimetype": "text/x-python",
   "name": "python",
   "nbconvert_exporter": "python",
   "pygments_lexer": "ipython3",
   "version": "3.8.3-final"
  },
  "orig_nbformat": 2,
  "kernelspec": {
   "name": "python38364bitb76e2e8385824c4dabacabbab98ed631",
   "display_name": "Python 3.8.3 64-bit"
  }
 },
 "nbformat": 4,
 "nbformat_minor": 2
}